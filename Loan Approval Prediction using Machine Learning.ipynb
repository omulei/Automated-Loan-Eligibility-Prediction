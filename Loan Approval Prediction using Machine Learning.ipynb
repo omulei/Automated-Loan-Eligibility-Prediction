{
 "cells": [
  {
   "cell_type": "markdown",
   "metadata": {},
   "source": [
    "### <span style=\"color: #1f77b4;\">Problem Statement</span>\n",
    "\n",
    "Understanding the problem statement is the first and foremost step. This would help you give an intuition of what you will face ahead of time. Let us see the problem statement.\n",
    "\n",
    "<span style=\"color: #1f77b4; font-weight: bold;\">Nairobi Housing Finance Company</span> offers all types of housing loans. They are present in all urban, semi-urban, and rural locations. Customers apply for a house loan once the company verifies their loan eligibility. The organization wants to <span style=\"font-style: italic;\">automate the loan eligibility process (in real time)</span> based on the information provided by the consumer when filling out the online application form. These characteristics include <span style=\"font-weight: bold;\">Gender, Marital Status, Education, Number of Dependents, Income, Loan Amount, Credit History</span>, and others. To automate this process, they created a problem to identify <span style=\"font-style: italic; color: #1f77b4;\">client segments that are eligible for loan amounts</span> so that they may directly target these customers.\n",
    "\n",
    "### <span style=\"color: #1f77b4;\">Problem Statement</span>\n",
    "\n",
    "It is a <span style=\"color: #2ca02c; font-weight: bold;\">classification problem</span> where we have to predict whether a loan would be approved or not. In these kinds of problems, we have to predict <span style=\"font-style: italic;\">discrete values</span> based on a given set of independent variables (s).\n",
    "\n",
    "- <span style=\"font-weight: bold;\">Binary Classification</span>: In this context, binary classification refers to predicting either of the two given classes. For example, classifying loan applications as either <span style=\"font-style: italic;\">approved</span> or <span style=\"font-style: italic;\">rejected</span> based on customer data.\n",
    "\n",
    "- <span style=\"font-weight: bold;\">MultiClass Classification</span>: Here, multiclass classification involves categorizing loan applications into multiple classes. For instance, you might classify loan applications into categories like <span style=\"font-style: italic;\">approved</span>, <span style=\"font-style: italic;\">rejected</span>, and <span style=\"font-style: italic;\">under review</span> based on customer attributes.\n",
    "\n",
    "<span style=\"font-style: italic;\">Loan prediction</span> is a very common real-life problem that each retail bank faces at least once in its lifetime. If done correctly, it can save a lot of man-hours at the end of a retail bank.\n",
    "\n",
    "---"
   ]
  },
  {
   "cell_type": "markdown",
   "metadata": {},
   "source": [
    "![Loan prediction](images/image_1.png)"
   ]
  },
  {
   "cell_type": "markdown",
   "metadata": {},
   "source": [
    "### <span style=\"color: #1f77b4;\">Hypothesis Generation</span>\n",
    "\n",
    "After looking at the problem statement, we will now move into hypothesis generation. It is the process of listing out all the possible factors that can affect the outcome.\n",
    "\n",
    "Below are some of the factors which I think can affect the Loan Approval (dependent variable for this loan prediction problem):\n",
    "\n",
    "- <span style=\"color: black; font-weight: bold;\">Salary</span>: Applicants with high income should have more chances of getting approval.\n",
    "- <span style=\"color: black; font-weight: bold;\">Previous History</span>: Applicants who have paid their historical debts have more chances of getting approval.\n",
    "- <span style=\"color: black; font-weight: bold;\">Loan Amount</span>: Less the amount higher the chances of getting approval.\n",
    "- <span style=\"color: black; font-weight: bold;\">Loan Term</span>: Less the time period has higher chances of approval.\n",
    "- <span style=\"color: black; font-weight: bold;\">EMI</span>: Lesser the amount to be paid monthly, the higher the chances of getting approval.\n",
    "\n",
    "---"
   ]
  },
  {
   "cell_type": "code",
   "execution_count": null,
   "metadata": {},
   "outputs": [],
   "source": []
  }
 ],
 "metadata": {
  "kernelspec": {
   "display_name": "Python (learn-env)",
   "language": "python",
   "name": "learn-env"
  },
  "language_info": {
   "codemirror_mode": {
    "name": "ipython",
    "version": 3
   },
   "file_extension": ".py",
   "mimetype": "text/x-python",
   "name": "python",
   "nbconvert_exporter": "python",
   "pygments_lexer": "ipython3",
   "version": "3.8.5"
  }
 },
 "nbformat": 4,
 "nbformat_minor": 4
}
